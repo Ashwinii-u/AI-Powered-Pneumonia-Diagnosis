{
 "cells": [
  {
   "cell_type": "code",
   "execution_count": 2,
   "id": "ed4d1529-12db-43c5-a874-5b1f914441d1",
   "metadata": {},
   "outputs": [],
   "source": [
    "import streamlit as st\n",
    "import numpy as np\n",
    "import tensorflow as tf\n",
    "from tensorflow.keras.preprocessing import image\n",
    "from PIL import Image"
   ]
  },
  {
   "cell_type": "code",
   "execution_count": 4,
   "id": "b1a2251d-a124-490f-abf4-cefd6351fd13",
   "metadata": {},
   "outputs": [
    {
     "name": "stderr",
     "output_type": "stream",
     "text": [
      "WARNING:absl:Compiled the loaded model, but the compiled metrics have yet to be built. `model.compile_metrics` will be empty until you train or evaluate the model.\n"
     ]
    }
   ],
   "source": [
    "model=tf.keras.models.load_model('pnueumonia_model.h5')"
   ]
  },
  {
   "cell_type": "code",
   "execution_count": 6,
   "id": "8a2f8bb3-e32b-4a92-a558-3306d1a16a9a",
   "metadata": {},
   "outputs": [
    {
     "name": "stderr",
     "output_type": "stream",
     "text": [
      "2025-06-01 10:52:21.224 \n",
      "  \u001b[33m\u001b[1mWarning:\u001b[0m to view this Streamlit app on a browser, run it with the following\n",
      "  command:\n",
      "\n",
      "    streamlit run C:\\ProgramData\\anaconda3\\Lib\\site-packages\\ipykernel_launcher.py [ARGUMENTS]\n"
     ]
    }
   ],
   "source": [
    "\n",
    "# Class names\n",
    "class_names = ['Normal', 'Pneumonia']\n",
    "\n",
    "st.title(\"🩺 Pneumonia Detection from Chest X-Ray\")\n",
    "st.write(\"Upload a chest X-ray image to predict whether it shows signs of pneumonia.\")\n",
    "\n",
    "uploaded_file = st.file_uploader(\"Choose an X-ray image...\", type=[\"jpg\", \"jpeg\", \"png\"])\n",
    "\n",
    "if uploaded_file is not None:\n",
    "    img = Image.open(uploaded_file).convert('RGB')\n",
    "    st.image(img, caption='Uploaded Image', use_column_width=True)\n",
    "\n",
    "    # Preprocessing\n",
    "    img = img.resize((32,32))  # Change to your model input size\n",
    "    img_array = image.img_to_array(img) / 255.0\n",
    "    img_array = np.expand_dims(img_array, axis=0)\n",
    "\n",
    "    # Prediction\n",
    "    prediction = model.predict(img_array)\n",
    "    confidence = float(prediction[0][0])\n",
    "\n",
    "    # Output\n",
    "    if confidence > 0.5:\n",
    "        st.error(f\"🔴 Prediction: {class_names[1]} ({confidence:.2f})\")\n",
    "    else:\n",
    "        st.success(f\"🟢 Prediction: {class_names[0]} ({1 - confidence:.2f})\")\n"
   ]
  },
  {
   "cell_type": "code",
   "execution_count": null,
   "id": "2030ee06-cd43-48a3-84a0-96d55fbf13f5",
   "metadata": {},
   "outputs": [],
   "source": []
  }
 ],
 "metadata": {
  "kernelspec": {
   "display_name": "Python 3 (ipykernel)",
   "language": "python",
   "name": "python3"
  },
  "language_info": {
   "codemirror_mode": {
    "name": "ipython",
    "version": 3
   },
   "file_extension": ".py",
   "mimetype": "text/x-python",
   "name": "python",
   "nbconvert_exporter": "python",
   "pygments_lexer": "ipython3",
   "version": "3.12.7"
  }
 },
 "nbformat": 4,
 "nbformat_minor": 5
}
